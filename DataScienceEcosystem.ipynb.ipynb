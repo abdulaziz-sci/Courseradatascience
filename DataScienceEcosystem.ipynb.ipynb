{
 "cells": [
  {
   "cell_type": "markdown",
   "id": "5eb243d2-3181-4632-b1c6-cf2a7d76a4b0",
   "metadata": {},
   "source": [
    "# Data Science Tools and Ecosystem"
   ]
  },
  {
   "cell_type": "markdown",
   "id": "60fb8e88-a202-4469-a99d-46afbe361703",
   "metadata": {},
   "source": [
    "In this notebook, Data Science Tools and Ecosystem are summarized."
   ]
  },
  {
   "cell_type": "markdown",
   "id": "48f1799d-f292-4938-8172-1b6a02921862",
   "metadata": {},
   "source": [
    "Objectives:\n",
    "    <ul>\n",
    "    <li>List popular languages that data scientists use</li>\n",
    "    <li>List popular libraries that data scientists use</li>\n",
    "    <li>List popular tools that data scientists use</li>\n",
    "    <li>Examples of arithmetic expressions in python</li>\n",
    "    </ul>    "
   ]
  },
  {
   "cell_type": "markdown",
   "id": "91b2ed6e-6055-44cd-abf1-a80c8d7baf90",
   "metadata": {
    "tags": []
   },
   "source": [
    "Some of the popular languages that Data Scientists use are:\n",
    "    <ol>\n",
    "    <li>Python</li>\n",
    "    <li>SQL</li>\n",
    "    <li>R</li>\n",
    "    </ol>"
   ]
  },
  {
   "cell_type": "markdown",
   "id": "d2928f73-6b6d-4e62-8873-ccb985804032",
   "metadata": {},
   "source": [
    "Some of the commonly used libraries used by Data Scientists include:\n",
    "    <ol>\n",
    "    <li>TensorFlow</li>\n",
    "    <li>NumPy</li>\n",
    "    <li>SciPy</li>\n",
    "    </ol>"
   ]
  },
  {
   "cell_type": "markdown",
   "id": "be6ad3c4-c0aa-477a-b86b-dbe981eb367e",
   "metadata": {
    "tags": []
   },
   "source": [
    "<table>\n",
    "    <tr>\n",
    "    <th>Data Science Tools:</th>\n",
    "    </tr>\n",
    "    <tr>\n",
    "    <th>Jupyter Notebooks / JupyterLab</th>\n",
    "    </tr>\n",
    "    <tr>\n",
    "    <th>Rstudio</th>\n",
    "    </tr>\n",
    "    <tr>\n",
    "    <th>Anaconda</th>\n",
    "    </tr>\n",
    "</table>"
   ]
  },
  {
   "cell_type": "markdown",
   "id": "a6cc4b23-e698-42a6-aff3-8b528daa7f91",
   "metadata": {},
   "source": [
    "### Below are a few examples of evaluating arithmetic expressions in Python"
   ]
  },
  {
   "cell_type": "code",
   "execution_count": 4,
   "id": "18ae465a-6854-46b0-b455-ccadc31b81c1",
   "metadata": {
    "tags": []
   },
   "outputs": [
    {
     "name": "stdout",
     "output_type": "stream",
     "text": [
      "17\n"
     ]
    }
   ],
   "source": [
    "#This a simple arithmetic expression to mutiply then add integers\n",
    "output = (3*4)+5\n",
    "print(output)"
   ]
  },
  {
   "cell_type": "code",
   "execution_count": 6,
   "id": "e857d44f-e575-4ae9-8384-0ad4f3124381",
   "metadata": {
    "tags": []
   },
   "outputs": [
    {
     "name": "stdout",
     "output_type": "stream",
     "text": [
      "3.3333333333333335\n"
     ]
    }
   ],
   "source": [
    "#This will convert 200 minutes to hours by diving by 60\n",
    "conv = 200/60\n",
    "print(conv)"
   ]
  },
  {
   "cell_type": "markdown",
   "id": "48138beb-1d80-4249-bad8-8a9b5622f3a3",
   "metadata": {},
   "source": [
    "## Author \n",
    "Abdulaziz"
   ]
  },
  {
   "cell_type": "code",
   "execution_count": null,
   "id": "26aed584-b9df-4fe1-981e-7928b0159876",
   "metadata": {},
   "outputs": [],
   "source": []
  }
 ],
 "metadata": {
  "kernelspec": {
   "display_name": "Python",
   "language": "python",
   "name": "conda-env-python-py"
  },
  "language_info": {
   "codemirror_mode": {
    "name": "ipython",
    "version": 3
   },
   "file_extension": ".py",
   "mimetype": "text/x-python",
   "name": "python",
   "nbconvert_exporter": "python",
   "pygments_lexer": "ipython3",
   "version": "3.7.12"
  }
 },
 "nbformat": 4,
 "nbformat_minor": 5
}
